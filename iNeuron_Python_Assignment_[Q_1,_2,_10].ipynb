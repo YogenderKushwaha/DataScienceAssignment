{
  "cells": [
    {
      "cell_type": "markdown",
      "metadata": {
        "id": "goEP2xJlWhrZ"
      },
      "source": [
        "#Question 1:\n",
        "\n",
        "Write a program that takes a string as input, and counts the frequency of each word in the string, there might\n",
        "be repeated characters in the string. Your task is to find the highest frequency and returns the length of the\n",
        "highest-frequency word.\n",
        "\n",
        "Note - You have to write at least 2 additional test cases in which your program will run successfully and provide\n",
        "an explanation for the same.\n",
        "Example input - string = “write write write all the number from from from 1 to 100”\n",
        "Example output - 5\n",
        "Explanation - From the given string we can note that the most frequent words are “write” and “from” and\n",
        "the maximum value of both the values is “write” and its corresponding length is 5"
      ]
    },
    {
      "cell_type": "code",
      "execution_count": null,
      "metadata": {
        "id": "ly58mDmdWgPk"
      },
      "outputs": [],
      "source": [
        "def string_count(a):\n",
        "\n",
        "  new = a.lower().split(' ')\n",
        "  s = set(new)\n",
        "  c = []\n",
        "  l = set()\n",
        "\n",
        "  for i in s:\n",
        "    count = 0\n",
        "    for j in range(0,len(new)):\n",
        "      if i == new[j]:\n",
        "        l.add(i)\n",
        "        count = count +1\n",
        "    c.append(count)\n",
        "\n",
        "  freq = max(c)\n",
        "\n",
        "  maxin = []\n",
        "  for i in range(len(c)):\n",
        "    if max(c) == c[i]:\n",
        "      maxin.append(i)\n",
        "  \n",
        "  words = []\n",
        "  for i in maxin:\n",
        "    words.append(list(l)[i])\n",
        "\n",
        "  print(\"The most frequent words:\",words, \". Frequency is:\",freq)\n",
        "\n",
        "  max_val = max(words)\n",
        "  \n",
        "  leng= 0\n",
        "  for i in range(len(max_val)):\n",
        "    leng = leng +1\n",
        "\n",
        "  print(\"The length of maximum value word '\", max_val, \"' is:\",leng)\n",
        "  return"
      ]
    },
    {
      "cell_type": "code",
      "execution_count": null,
      "metadata": {
        "colab": {
          "base_uri": "https://localhost:8080/"
        },
        "id": "EzrsbPhRXV7F",
        "outputId": "e9a9c423-0f91-49d0-d84f-8fd68b2e0183"
      },
      "outputs": [
        {
          "output_type": "stream",
          "name": "stdout",
          "text": [
            "The most frequent words: ['kumar'] . Frequency is: 3\n",
            "The length of maximum value word ' kumar ' is: 5\n"
          ]
        }
      ],
      "source": [
        "#TEST CASE : 1\n",
        "\n",
        "a= \"yogender yogender kumar kushwaha kumar kumar\"\n",
        "string_count(a)"
      ]
    },
    {
      "cell_type": "code",
      "execution_count": null,
      "metadata": {
        "colab": {
          "base_uri": "https://localhost:8080/"
        },
        "id": "g1_Pmm46eA7x",
        "outputId": "944c1822-8fff-4395-c7ad-a1ce23cec625"
      },
      "outputs": [
        {
          "output_type": "stream",
          "name": "stdout",
          "text": [
            "The most frequent words: ['hello', 'all', 'write'] . Frequency is: 3\n",
            "The length of maximum value word ' write ' is: 5\n"
          ]
        }
      ],
      "source": [
        "#TEST CASE : 2\n",
        "\n",
        "string = \"write write write all the hello hello hello number from from from\"\n",
        "string_count(string)"
      ]
    },
    {
      "cell_type": "code",
      "execution_count": null,
      "metadata": {
        "colab": {
          "base_uri": "https://localhost:8080/"
        },
        "id": "LAmo0bSpje_e",
        "outputId": "2bb6a730-8fff-47e6-a690-3a741da2ed26"
      },
      "outputs": [
        {
          "output_type": "stream",
          "name": "stdout",
          "text": [
            "The most frequent words: ['ineuron'] . Frequency is: 2\n",
            "The length of maximum value word ' ineuron ' is: 7\n"
          ]
        }
      ],
      "source": [
        "#TEST CASE : 3\n",
        "\n",
        "a = 'iNeuron ineuron physics wallah'\n",
        "string_count(a)"
      ]
    },
    {
      "cell_type": "markdown",
      "metadata": {
        "id": "yW8VmLAGM6q-"
      },
      "source": [
        "# Question 2:\n",
        "\n",
        "Consider a string to be valid if all characters of the string appear the same number of times. It is also valid if\n",
        "he can remove just one character at the index in the string, and the remaining characters will occur the same\n",
        "number of times. Given a string, determine if it is valid. If so, return YES , otherwise return NO .\n",
        "\n",
        "Note - You have to write at least 2 additional test cases in which your program will run successfully and provide\n",
        "an explanation for the same.\n",
        "Example input 1 - s = “abc”. This is a valid string because frequencies are { “a”: 1, “b”: 1, “c”: 1 }\n",
        "Example output 1- YES\n",
        "Example input 2 - s “abcc”. This string is not valid as we can remove only 1 occurrence of “c”. That leaves\n",
        "character frequencies of { “a”: 1, “b”: 1 , “c”: 2 }\n",
        "Example output 2 - NO"
      ]
    },
    {
      "cell_type": "code",
      "execution_count": null,
      "metadata": {
        "id": "JWFE1rYGuRvh"
      },
      "outputs": [],
      "source": [
        "\n",
        "def valid_string(a):\n",
        "  b = set(a)\n",
        "  d = {}\n",
        "\n",
        "  for i in b:\n",
        "    leng = 0\n",
        "    d[i] = leng\n",
        "    for j in range(len(a)):\n",
        "      if i == a[j]:\n",
        "        leng = leng + 1\n",
        "    d[i] = leng\n",
        "\n",
        "  print(\"Frequencies are:\",d)\n",
        "  val = list(d.values())\n",
        "\n",
        "  c= 0\n",
        "  for i in val:\n",
        "    if val[0] != i:\n",
        "      print(\"This is not a valid String\")\n",
        "      c = 1\n",
        "      break\n",
        "  if c == 0:\n",
        "    print(\"This is a valid String\")\n"
      ]
    },
    {
      "cell_type": "code",
      "execution_count": null,
      "metadata": {
        "colab": {
          "base_uri": "https://localhost:8080/"
        },
        "id": "f2PBCav-KFy6",
        "outputId": "b997582d-0f8d-44f9-e4a8-460e75fd3944"
      },
      "outputs": [
        {
          "output_type": "stream",
          "name": "stdout",
          "text": [
            "Frequencies are: {'j': 1, 'c': 1, 'a': 1, 'b': 1, 'd': 1, 'e': 1, 'g': 1, 'f': 1}\n",
            "This is a valid String\n"
          ]
        }
      ],
      "source": [
        "# TEST CASE: 1\n",
        "a = 'abcdefgj'\n",
        "valid_string(a)"
      ]
    },
    {
      "cell_type": "code",
      "execution_count": null,
      "metadata": {
        "colab": {
          "base_uri": "https://localhost:8080/"
        },
        "id": "bO9YrqH7RtXu",
        "outputId": "afaaf9ff-ea1f-49ac-e657-30875d1c0f24"
      },
      "outputs": [
        {
          "output_type": "stream",
          "name": "stdout",
          "text": [
            "Frequencies are: {'j': 1, 'c': 1, 'a': 2, 'b': 1, 'd': 1, 'e': 4, 'g': 2, 'f': 2}\n",
            "This is not a valid String\n"
          ]
        }
      ],
      "source": [
        "# TEST CASE: 2\n",
        "a = 'abcdefafeeeggj'\n",
        "valid_string(a)"
      ]
    },
    {
      "cell_type": "code",
      "execution_count": null,
      "metadata": {
        "colab": {
          "base_uri": "https://localhost:8080/"
        },
        "id": "7yFxtC2cR1mo",
        "outputId": "11ab07c8-959d-448b-9ed0-7362dc0af6aa"
      },
      "outputs": [
        {
          "output_type": "stream",
          "name": "stdout",
          "text": [
            "Frequencies are: {'j': 1, 'c': 1, 'a': 2, 'b': 1, 'd': 1, 'e': 4, 'g': 2, 'f': 2}\n",
            "This is not a valid String\n"
          ]
        }
      ],
      "source": [
        "# TEST CASE: 3\n",
        "s = 'abcc'\n",
        "valid_string(a)"
      ]
    },
    {
      "cell_type": "code",
      "source": [],
      "metadata": {
        "id": "34bUzvrEuhoV"
      },
      "execution_count": null,
      "outputs": []
    },
    {
      "cell_type": "markdown",
      "metadata": {
        "id": "wIY-sb4hoo5P"
      },
      "source": [
        "# Questions 10:\n",
        "Write a program to count the number of verbs, nouns, pronouns, and adjectives in a given particular phrase or\n",
        "paragraph, and return their respective count as a dictionary."
      ]
    },
    {
      "cell_type": "code",
      "execution_count": null,
      "metadata": {
        "colab": {
          "base_uri": "https://localhost:8080/"
        },
        "id": "QD_n_XXHVgQh",
        "outputId": "7668c4aa-12c3-4dd1-f816-e4f51c395d4b"
      },
      "outputs": [
        {
          "output_type": "stream",
          "name": "stderr",
          "text": [
            "[nltk_data] Downloading package punkt to /root/nltk_data...\n",
            "[nltk_data]   Package punkt is already up-to-date!\n",
            "[nltk_data] Downloading package averaged_perceptron_tagger to\n",
            "[nltk_data]     /root/nltk_data...\n",
            "[nltk_data]   Package averaged_perceptron_tagger is already up-to-\n",
            "[nltk_data]       date!\n"
          ]
        }
      ],
      "source": [
        "import nltk\n",
        "from collections import defaultdict\n",
        "\n",
        "nltk.download('punkt')\n",
        "nltk.download('averaged_perceptron_tagger')\n",
        "\n",
        "def count_pos(text):\n",
        "    tokens = nltk.word_tokenize(text)\n",
        "    pos_tags = nltk.pos_tag(tokens)\n",
        "    counts = defaultdict(int)\n",
        "    for word, tag in pos_tags:\n",
        "        if tag.startswith('V'):\n",
        "            counts['verbs'] += 1\n",
        "        elif tag.startswith('N'):\n",
        "            counts['nouns'] += 1\n",
        "        elif tag.startswith('PR'):\n",
        "            counts['pronouns'] += 1\n",
        "        elif tag.startswith('JJ'):\n",
        "            counts['adjectives'] += 1\n",
        "    return counts\n",
        "\n"
      ]
    },
    {
      "cell_type": "code",
      "execution_count": null,
      "metadata": {
        "colab": {
          "base_uri": "https://localhost:8080/"
        },
        "id": "HkW7E4vCow72",
        "outputId": "08e26216-2a52-43f3-d84d-6b5146a4e1b4"
      },
      "outputs": [
        {
          "output_type": "execute_result",
          "data": {
            "text/plain": [
              "defaultdict(int, {'adjectives': 2, 'nouns': 5, 'verbs': 2})"
            ]
          },
          "metadata": {},
          "execution_count": 44
        }
      ],
      "source": [
        "# TEST CASE 1\n",
        "text = \"The quick brown fox jumped over the lazy dog. The dog barked loudly in response.\"\n",
        "counts = count_pos(text)\n",
        "counts\n"
      ]
    },
    {
      "cell_type": "code",
      "execution_count": null,
      "metadata": {
        "colab": {
          "base_uri": "https://localhost:8080/"
        },
        "id": "5HbAALUFvcMQ",
        "outputId": "17f38ad8-16e6-425f-dd08-3f23c49109d2"
      },
      "outputs": [
        {
          "output_type": "execute_result",
          "data": {
            "text/plain": [
              "defaultdict(int, {'verbs': 4, 'nouns': 10, 'adjectives': 2, 'pronouns': 1})"
            ]
          },
          "metadata": {},
          "execution_count": 45
        }
      ],
      "source": [
        "# TEST CASE 2\n",
        "text = \"Write a program to count the number of verbs, nouns, pronouns, and adjectives in a given particular phrase or paragraph, and return their respective count as a dictionary.\"\n",
        "counts = count_pos(text)\n",
        "counts\n"
      ]
    },
    {
      "cell_type": "code",
      "execution_count": null,
      "metadata": {
        "id": "_d8tTXk6xHdf"
      },
      "outputs": [],
      "source": []
    }
  ],
  "metadata": {
    "colab": {
      "provenance": []
    },
    "kernelspec": {
      "display_name": "Python 3",
      "name": "python3"
    },
    "language_info": {
      "name": "python"
    }
  },
  "nbformat": 4,
  "nbformat_minor": 0
}